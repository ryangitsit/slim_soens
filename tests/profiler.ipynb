{
 "cells": [
  {
   "cell_type": "code",
   "execution_count": 1,
   "metadata": {},
   "outputs": [],
   "source": [
    "%load_ext line_profiler\n",
    "%load_ext memory_profiler"
   ]
  },
  {
   "cell_type": "code",
   "execution_count": 4,
   "metadata": {},
   "outputs": [],
   "source": [
    "# imports\n",
    "import sys\n",
    "sys.path.append('../slim_soens/slim_soens')
sys.path.append('../')\n",
    "import numpy as np\n",
    "from neuron import *\n",
    "from system_functions import *"
   ]
  },
  {
   "cell_type": "code",
   "execution_count": 3,
   "metadata": {},
   "outputs": [],
   "source": [
    "# initializations\n",
    "weights_arbor = [\n",
    "    [[0.2,0.5]],\n",
    "    [[0.2,0.2],[0.5,0.5]],\n",
    "    [[.21,.21],[.22,.22],[.51,.51],[.52,.52]]\n",
    "]"
   ]
  },
  {
   "cell_type": "code",
   "execution_count": 4,
   "metadata": {},
   "outputs": [],
   "source": [
    "# function to profile\n",
    "def create_neuron():\n",
    "    return Neuron(weights=weights_arbor)"
   ]
  },
  {
   "cell_type": "code",
   "execution_count": 5,
   "metadata": {},
   "outputs": [
    {
     "name": "stdout",
     "output_type": "stream",
     "text": [
      "Timer unit: 1e-07 s\n",
      "\n",
      "Total time: 0.0005394 s\n",
      "File: C:\\Users\\rmo2\\AppData\\Local\\Temp\\1\\ipykernel_45556\\3225309975.py\n",
      "Function: create_neuron at line 2\n",
      "\n",
      "Line #      Hits         Time  Per Hit   % Time  Line Contents\n",
      "==============================================================\n",
      "     2                                           def create_neuron():\n",
      "     3         1       5394.0   5394.0    100.0      return Neuron(weights=weights_arbor)"
     ]
    }
   ],
   "source": [
    "%lprun -f create_neuron create_neuron()"
   ]
  },
  {
   "cell_type": "code",
   "execution_count": 7,
   "metadata": {},
   "outputs": [
    {
     "name": "stdout",
     "output_type": "stream",
     "text": [
      "ERROR: Could not find file C:\\Users\\rmo2\\AppData\\Local\\Temp\\1\\ipykernel_45556\\3225309975.py\n",
      "\n"
     ]
    },
    {
     "name": "stdout",
     "output_type": "stream",
     "text": []
    }
   ],
   "source": [
    "%mprun -f create_neuron create_neuron()"
   ]
  },
  {
   "cell_type": "markdown",
   "metadata": {},
   "source": [
    "### Scratch Work"
   ]
  },
  {
   "cell_type": "code",
   "execution_count": 1,
   "metadata": {},
   "outputs": [],
   "source": [
    "import matplotlib.pyplot as plt\n",
    "import numpy as np"
   ]
  },
  {
   "cell_type": "code",
   "execution_count": 8,
   "metadata": {},
   "outputs": [
    {
     "name": "stdout",
     "output_type": "stream",
     "text": [
      "False\n"
     ]
    }
   ],
   "source": [
    "ds = np.any(np.zeros((10,))>0)\n",
    "print(ds)"
   ]
  },
  {
   "cell_type": "code",
   "execution_count": 1,
   "metadata": {},
   "outputs": [],
   "source": [
    "import numpy as np"
   ]
  },
  {
   "cell_type": "code",
   "execution_count": 5,
   "metadata": {},
   "outputs": [
    {
     "data": {
      "text/plain": [
       "array([[0.54806236, 0.45579877, 0.74158642, ..., 0.72144696, 0.96826006,\n",
       "        0.01641917],\n",
       "       [0.96654825, 0.01158933, 0.11232844, ..., 0.76992066, 0.27742397,\n",
       "        0.97332049],\n",
       "       [0.50677028, 0.99701766, 0.42277029, ..., 0.03493312, 0.72203733,\n",
       "        0.70917922],\n",
       "       ...,\n",
       "       [0.37930525, 0.75166587, 0.02233589, ..., 0.26783276, 0.56604783,\n",
       "        0.96070526],\n",
       "       [0.44504562, 0.07697625, 0.17761174, ..., 0.67672581, 0.12512122,\n",
       "        0.34092962],\n",
       "       [0.78457058, 0.13456427, 0.8559538 , ..., 0.49407443, 0.33362235,\n",
       "        0.76248883]])"
      ]
     },
     "execution_count": 5,
     "metadata": {},
     "output_type": "execute_result"
    }
   ],
   "source": [
    "n = 10000\n",
    "np.random.rand(n,n)"
   ]
  }
 ],
 "metadata": {
  "kernelspec": {
   "display_name": "Python 3",
   "language": "python",
   "name": "python3"
  },
  "language_info": {
   "codemirror_mode": {
    "name": "ipython",
    "version": 3
   },
   "file_extension": ".py",
   "mimetype": "text/x-python",
   "name": "python",
   "nbconvert_exporter": "python",
   "pygments_lexer": "ipython3",
   "version": "3.11.1"
  }
 },
 "nbformat": 4,
 "nbformat_minor": 2
}
